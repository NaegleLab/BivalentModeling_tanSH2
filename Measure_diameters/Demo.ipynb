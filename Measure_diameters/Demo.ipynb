{
 "cells": [
  {
   "cell_type": "code",
   "execution_count": 2,
   "id": "55dc0965-ecea-465b-887c-f85d7db9dda3",
   "metadata": {},
   "outputs": [],
   "source": [
    "import measure_diameter as md"
   ]
  },
  {
   "cell_type": "code",
   "execution_count": 19,
   "id": "39148e1d-2c5d-4523-8ea5-d418ab689a10",
   "metadata": {},
   "outputs": [],
   "source": [
    "# set the path to the folder containing PDB files\n",
    "path = './measure_domain/rasa1'"
   ]
  },
  {
   "cell_type": "code",
   "execution_count": 20,
   "id": "2fefde44-452c-4ba7-add4-46d5c335d3fe",
   "metadata": {},
   "outputs": [],
   "source": [
    "# PDB_ID list of gene of interest that do not have mutations and have both SH2 domains. \n",
    "# print atom records to a new pdb file with different whitespace formatting for further steps\n",
    "#step 2\n",
    "pdbfiles = os.listdir(path)\n",
    "\n",
    "for file in pdbfiles:\n",
    "    if file.endswith(\".pdb\"):\n",
    "        file_path = f\"{path}/{file}\"\n",
    "        \n",
    "        new_filename = 'edit_'+file\n",
    "        completeName = os.path.join(path, new_filename)   \n",
    "        \n",
    "        editfile = open(completeName, 'w')\n",
    "        \n",
    "        for line in open(file_path):\n",
    "            list = line.split()\n",
    "            l1 = line[:16]\n",
    "            l2 = line[16:22]\n",
    "            l3 = line[22:78]\n",
    "            if line[:4] == 'ATOM':\n",
    "                editfile.write(str(l1)+\"\\t\"+str(l2)+\"\\t\"+str(l3)+\"\\n\")"
   ]
  },
  {
   "cell_type": "code",
   "execution_count": 21,
   "id": "827f8fba-b6f1-40e9-96f8-473b9a790ca6",
   "metadata": {},
   "outputs": [],
   "source": [
    "# retaining information for atoms of interest\n",
    "# step3\n",
    "md.write_backbone_atoms(path,'N_NSH2', 'N', 181, 273)\n",
    "md.write_backbone_atoms(path, 'C_NSH2', 'C', 181, 273)\n",
    "md.write_backbone_atoms(path, 'N_CSH2', 'N', 351, 442)\n",
    "md.write_backbone_atoms(path, 'C_CSH2', 'C', 351, 442)"
   ]
  },
  {
   "cell_type": "code",
   "execution_count": 22,
   "id": "b4d2dc53-b864-4eff-a656-0e6bcf91ad33",
   "metadata": {},
   "outputs": [
    {
     "name": "stdout",
     "output_type": "stream",
     "text": [
      "N_CSH2 35.7924749214133 6way\n",
      "N_CSH2 35.61699754330789 6wax\n",
      "empty list 6pxc\n",
      "empty list 6pxb\n",
      "empty list 6pxc\n",
      "empty list 6pxb\n",
      "C_CSH2 36.80838708772771 6way\n",
      "C_CSH2 36.62787196930775 6wax\n",
      "N_NSH2 33.60878281045001 6pxc\n",
      "N_NSH2 35.37134169069645 6pxb\n",
      "empty list 6way\n",
      "empty list 6wax\n",
      "empty list 6way\n",
      "empty list 6wax\n",
      "C_NSH2 34.74255042451547 6pxc\n",
      "C_NSH2 35.37817984294839 6pxb\n"
     ]
    }
   ],
   "source": [
    "# calculating diameter\n",
    "# step4\n",
    "md.cal_distance(path, 'N_CSH2')\n",
    "md.cal_distance(path, 'C_CSH2')\n",
    "md.cal_distance(path, 'N_NSH2')\n",
    "md.cal_distance(path, 'C_NSH2')"
   ]
  },
  {
   "cell_type": "code",
   "execution_count": 23,
   "id": "2bda9693-bd4c-4283-be70-c020947969e8",
   "metadata": {},
   "outputs": [
    {
     "name": "stdout",
     "output_type": "stream",
     "text": [
      "N_CSH2 35.7\n",
      "C_CSH2 36.72\n",
      "N_NSH2 34.49\n",
      "C_NSH2 35.06\n"
     ]
    }
   ],
   "source": [
    "# calculating the final diameter by averagin gacross multiple PDB files\n",
    "# step 5\n",
    "md.average_distance(path, 'N_CSH2')\n",
    "md.average_distance(path, 'C_CSH2')\n",
    "md.average_distance(path, 'N_NSH2')\n",
    "md.average_distance(path, 'C_NSH2')"
   ]
  },
  {
   "cell_type": "code",
   "execution_count": null,
   "id": "ee36e328-856e-4bb8-9d83-27cb67c14f94",
   "metadata": {},
   "outputs": [],
   "source": []
  }
 ],
 "metadata": {
  "kernelspec": {
   "display_name": "Python 3 (ipykernel)",
   "language": "python",
   "name": "python3"
  },
  "language_info": {
   "codemirror_mode": {
    "name": "ipython",
    "version": 3
   },
   "file_extension": ".py",
   "mimetype": "text/x-python",
   "name": "python",
   "nbconvert_exporter": "python",
   "pygments_lexer": "ipython3",
   "version": "3.9.18"
  }
 },
 "nbformat": 4,
 "nbformat_minor": 5
}
